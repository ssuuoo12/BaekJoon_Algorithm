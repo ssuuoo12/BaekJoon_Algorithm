{
 "cells": [
  {
   "cell_type": "code",
   "execution_count": 7,
   "metadata": {},
   "outputs": [
    {
     "name": "stdout",
     "output_type": "stream",
     "text": [
      "2\n",
      "3\n",
      "3\n",
      "5\n",
      "8\n"
     ]
    }
   ],
   "source": [
    "n = int(input())\n",
    "num_list = []\n",
    "\n",
    "for _ in range(n):\n",
    "    num_list.append(int(input()))\n",
    "\n",
    "# 버블 정렬 알고리즘\n",
    "for i in range(n-1):  # i는 0부터 n-2까지 (전체 패스 횟수)\n",
    "    for j in range(n-1, i, -1):  # j는 뒤에서부터 i+1까지 거꾸로 이동\n",
    "        if num_list[j] < num_list[j-1]:\n",
    "            num_list[j], num_list[j-1] = num_list[j-1], num_list[j]\n",
    "\n",
    "# 정렬된 결과 출력\n",
    "for num in num_list:\n",
    "    print(num)"
   ]
  }
 ],
 "metadata": {
  "kernelspec": {
   "display_name": ".venv",
   "language": "python",
   "name": "python3"
  },
  "language_info": {
   "codemirror_mode": {
    "name": "ipython",
    "version": 3
   },
   "file_extension": ".py",
   "mimetype": "text/x-python",
   "name": "python",
   "nbconvert_exporter": "python",
   "pygments_lexer": "ipython3",
   "version": "3.10.6"
  }
 },
 "nbformat": 4,
 "nbformat_minor": 2
}
